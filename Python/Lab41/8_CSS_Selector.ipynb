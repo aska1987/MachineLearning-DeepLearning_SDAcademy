{
 "cells": [
  {
   "cell_type": "markdown",
   "metadata": {},
   "source": [
    "# CSS 선택자 자세히 알아보기"
   ]
  },
  {
   "cell_type": "markdown",
   "metadata": {},
   "source": [
    "# 1) 선택자 기본서식\n",
    "- '*' :모든 태그를 선택\n",
    "- <태그이름> : 태그 이름을 기반으로 선택\n",
    "- .<클래스 이름> : 클래스 이름으로 선택\n",
    "- #<id 이름> : id 속석으로 선택\n"
   ]
  },
  {
   "cell_type": "markdown",
   "metadata": {},
   "source": [
    "# 2) 선택자들의 관계 서식\n",
    "- <선택자>, <선택자> : 여러 개의 선택자를 모두 선택\n",
    "- <선택자> <선택자> : 뒤 선택자는 앞 선택자의 아래계층(후손)에 속한다\n",
    "- <선택자> > <선택자> : 뒤 선택자는 앞 선택자의 바로 아래(자식) 계층에 속한다\n",
    "- <선택자> + <선택자> : 같은 계층에서 바로 뒤에 있는 요소(형제)\n",
    "- <선택자> ~ <선택자> : 선택자1 부터 선택자2 까지 모두 선택\n"
   ]
  },
  {
   "cell_type": "markdown",
   "metadata": {},
   "source": [
    "# 3) 선택자 속성을 기반으로 지정하는 서식\n",
    "- <태그>[<속성>] : 해당 속성을 가진 태그를 선택\n",
    "- <태그>[<속성>=<값>] : 해당 속성의 값이 지정한 값과 같은 요소를 선택\n",
    "- <태그>[<속성>~=<값>] : 해당 속성이 값이 지정한 값을 단어로 포함하면 선택\n",
    "- <태그>[<속성>|=<값>] : 해당 속성의 값으로 시작하면 선택(하이픈 기호)\n",
    "- <태그>[<속성>^=<값>] : 해당 속성의 값으로 시작하면 선택\n",
    "- <태그>[<속성>$=<값>] : 해당 속성의 값으로 끝나면 선택\n",
    "- <태그>[<속성>*=<값>] : 해당 속성의 값을 포함하고 있으면 선택"
   ]
  },
  {
   "cell_type": "markdown",
   "metadata": {},
   "source": [
    "# 4) 위치로 지정\n",
    "- <태그>: nth-of-type(n) : n번째 위치의 태그를 선택"
   ]
  },
  {
   "cell_type": "markdown",
   "metadata": {},
   "source": [
    "a = 100**2\n",
    "print(a)"
   ]
  }
 ],
 "metadata": {
  "kernelspec": {
   "display_name": "Python 3",
   "language": "python",
   "name": "python3"
  },
  "language_info": {
   "codemirror_mode": {
    "name": "ipython",
    "version": 3
   },
   "file_extension": ".py",
   "mimetype": "text/x-python",
   "name": "python",
   "nbconvert_exporter": "python",
   "pygments_lexer": "ipython3",
   "version": "3.5.6"
  }
 },
 "nbformat": 4,
 "nbformat_minor": 2
}
